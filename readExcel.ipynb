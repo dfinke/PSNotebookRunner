{
    "metadata": {
        "kernelspec": {
            "name": ".net-powershell",
            "display_name": ".NET (PowerShell)"
        },
        "language_info": {
            "name": "PowerShell",
            "version": "7.0",
            "mimetype": "text/x-powershell",
            "file_extension": ".ps1",
            "pygments_lexer": "powershell"
        }
    },
    "nbformat_minor": 2,
    "nbformat": 4,
    "cells": [
        {
            "cell_type": "code",
            "source": [
                "$xlfile = !$xlfile ? $(throw \"Excel File Not Specified\") : $xlfile\r\n",
                "$sheetName = !$sheetName ? \"one\" : $sheetName\r\n",
                "$itemName = !$itemName ? \"lemon\" : $itemName"
            ],
            "metadata": {
                "azdata_cell_guid": "4331b17e-b402-4857-82be-37376ad13353",
                "tags": []
            },
            "outputs": [],
            "execution_count": null
        },
        {
            "cell_type": "code",
            "source": [
                "if ($xlfile) {\r\n",
                "    Import-Excel -Path $xlfile -WorksheetName $sheetName |\r\n",
                "    Where-Object { $_.Item -eq $itemName }\r\n",
                "}"
            ],
            "metadata": {
                "azdata_cell_guid": "a7fbaf2a-da84-4dd1-8bf1-7acfea892544",
                "tags": []
            },
            "outputs": [],
            "execution_count": null
        }
    ]
}