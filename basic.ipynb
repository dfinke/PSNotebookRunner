{
    "metadata": {
        "kernelspec": {
            "name": ".net-powershell",
            "display_name": ".NET (PowerShell)"
        },
        "language_info": {
            "name": "PowerShell",
            "version": "7.0",
            "mimetype": "text/x-powershell",
            "file_extension": ".ps1",
            "pygments_lexer": "powershell"
        }
    },
    "nbformat_minor": 2,
    "nbformat": 4,
    "cells": [
        {
            "cell_type": "code",
            "source": [
                "$index = !$index ? \"SNP\" : $index\r\n",
                "\r\n",
                "$csvFilename = \"$($pwd.path)/exenb/datadir/{0}.csv\" -f $index\r\n",
                "$records = import-csv $csvFilename\r\n",
                "\r\n",
                "\"$index record count: $($records.count+1)\""
            ],
            "metadata": {
                "azdata_cell_guid": "c217b2c5-f2b1-4033-aae3-111d92f96403"
            },
            "outputs": [],
            "execution_count": null
        }
    ]
}